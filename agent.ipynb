{
 "cells": [
  {
   "cell_type": "code",
   "execution_count": 1,
   "id": "7c87bc6e-9dd9-4f57-840f-53940224ce73",
   "metadata": {},
   "outputs": [
    {
     "name": "stdin",
     "output_type": "stream",
     "text": [
      " ········\n"
     ]
    }
   ],
   "source": [
    "import os\n",
    "from getpass import getpass\n",
    "os.environ[\"TAVILY_API_KEY\"] = getpass()\n"
   ]
  },
  {
   "cell_type": "code",
   "execution_count": 2,
   "id": "e3470635-3bb7-4739-8875-33ea8ccedb6b",
   "metadata": {},
   "outputs": [],
   "source": [
    "# Import relevant functionality\n",
    "from langchain_openai import ChatOpenAI\n",
    "\n",
    "model = ChatOpenAI(model=\"gpt-4o\")"
   ]
  },
  {
   "cell_type": "code",
   "execution_count": 3,
   "id": "a03668b7-3b0a-465c-8599-a275e65e920d",
   "metadata": {},
   "outputs": [],
   "source": [
    "from langchain_community.tools.tavily_search import TavilySearchResults\n",
    "from langchain_core.messages import HumanMessage\n",
    "from langgraph.checkpoint.memory import MemorySaver\n",
    "from langgraph.prebuilt import create_react_agent\n",
    "\n",
    "memory = MemorySaver()\n",
    "search = TavilySearchResults(max_results=2)\n",
    "tools = [search]\n",
    "agent_executor = create_react_agent(model, tools, checkpointer=memory)"
   ]
  },
  {
   "cell_type": "code",
   "execution_count": 4,
   "id": "5ea909e6-b68f-4c74-9304-5d783d0ea333",
   "metadata": {},
   "outputs": [
    {
     "data": {
      "text/plain": [
       "[{'title': 'Weather in Diegem',\n",
       "  'url': 'https://www.weatherapi.com/',\n",
       "  'content': \"{'location': {'name': 'Diegem', 'region': '', 'country': 'Belgium', 'lat': 50.9, 'lon': 4.4333, 'tz_id': 'Europe/Brussels', 'localtime_epoch': 1743001930, 'localtime': '2025-03-26 16:12'}, 'current': {'last_updated_epoch': 1743001200, 'last_updated': '2025-03-26 16:00', 'temp_c': 11.2, 'temp_f': 52.2, 'is_day': 1, 'condition': {'text': 'Partly cloudy', 'icon': '//cdn.weatherapi.com/weather/64x64/day/116.png', 'code': 1003}, 'wind_mph': 8.7, 'wind_kph': 14.0, 'wind_degree': 18, 'wind_dir': 'NNE', 'pressure_mb': 1024.0, 'pressure_in': 30.24, 'precip_mm': 0.0, 'precip_in': 0.0, 'humidity': 66, 'cloud': 75, 'feelslike_c': 9.5, 'feelslike_f': 49.1, 'windchill_c': 13.7, 'windchill_f': 56.6, 'heatindex_c': 14.6, 'heatindex_f': 58.2, 'dewpoint_c': 3.6, 'dewpoint_f': 38.5, 'vis_km': 10.0, 'vis_miles': 6.0, 'uv': 1.5, 'gust_mph': 11.1, 'gust_kph': 17.9}}\",\n",
       "  'score': 0.8681484},\n",
       " {'title': '10-Day Weather Forecast for Diegem, Flemish Brabant, Belgium',\n",
       "  'url': 'https://weather.com/weather/tenday/l/Diegem+Belgium+BEXX1889',\n",
       "  'content': 'recents\\n\\nWeather Forecasts\\n\\nRadar & Maps\\n\\nNews & Media\\n\\nProducts\\n\\nHealth & Wellness\\n\\nAccount\\n\\nLifestyle\\n\\nPrivacy\\n\\nSpecialty Forecasts\\n\\n10 Day Weather-Diegem, Flemish Brabant, Belgium\\n\\nTonight\\n\\nWed 26 | Night\\n\\nSome passing clouds. Low 37F. Winds ENE at 5 to 10 mph.\\n\\nHeads-up\\n\\nDangerous Severe Threat For South, East\\n\\nThu 27\\n\\nThu 27 | Day\\n\\nMostly sunny. High 62F. Winds light and variable.\\n\\nThu 27 | Night\\n\\nClear skies. Low 39F. Winds light and variable.\\n\\nFri 28\\n\\nFri 28 | Day [...] Sun 30 | Night\\n\\nPartly cloudy skies. Low 41F. Winds WNW at 5 to 10 mph.\\n\\nMon 31\\n\\nMon 31 | Day\\n\\nIntervals of clouds and sunshine. High 61F. Winds NW at 5 to 10 mph.\\n\\nMon 31 | Night\\n\\nPartly cloudy skies. Low near 40F. Winds light and variable.\\n\\nTue 01\\n\\nTue 01 | Day\\n\\nPartly cloudy skies. High 64F. Winds ENE at 5 to 10 mph.\\n\\nTue 01 | Night\\n\\nClear skies. Low near 40F. Winds ENE at 5 to 10 mph.\\n\\nWed 02\\n\\nWed 02 | Day\\n\\nSunny. High near 65F. Winds ENE at 10 to 15 mph.\\n\\nWed 02 | Night [...] Sunshine and clouds mixed. High 57F. Winds WSW at 5 to 10 mph.\\n\\nFri 28 | Night\\n\\nRain showers early with overcast skies late. Low 41F. Winds WNW at 5 to 10 mph. Chance of rain 40%.\\n\\nSat 29\\n\\nSat 29 | Day\\n\\nSunshine and clouds mixed. High near 55F. Winds NW at 10 to 15 mph.\\n\\nSat 29 | Night\\n\\nA few clouds overnight. Low near 40F. Winds WSW at 5 to 10 mph.\\n\\nSun 30\\n\\nSun 30 | Day\\n\\nPartly cloudy skies in the morning will give way to cloudy skies during the afternoon. High 58F. Winds W at 10 to 15 mph.',\n",
       "  'score': 0.7730283}]"
      ]
     },
     "execution_count": 4,
     "metadata": {},
     "output_type": "execute_result"
    }
   ],
   "source": [
    "search.invoke(\"what is the weather in Diegem?\")"
   ]
  },
  {
   "cell_type": "code",
   "execution_count": 8,
   "id": "74d78166-613e-4799-9449-28d2e67a0734",
   "metadata": {},
   "outputs": [],
   "source": [
    "config = {\"configurable\" : {\"thread_id\" :\"abc234\"}}\n",
    "# for step in agent_executor.stream(\n",
    "#     {\"messages\":[HumanMessage(content=\"Hi im Pavel! and i live in belgium, ghent!\")]},\n",
    "#     config,\n",
    "#     stream_mode=\"values\",\n",
    "# ):\n",
    "#     step[\"messages\"][-1].pretty_print()"
   ]
  },
  {
   "cell_type": "code",
   "execution_count": 9,
   "id": "92554ed0-e849-4377-b714-8591dac21785",
   "metadata": {},
   "outputs": [
    {
     "name": "stdout",
     "output_type": "stream",
     "text": [
      "================================\u001b[1m Human Message \u001b[0m=================================\n",
      "\n",
      "whats the weather were i live?\n",
      "==================================\u001b[1m Ai Message \u001b[0m==================================\n",
      "\n",
      "To provide you with the current weather, I would need to know your location. Could you please specify the city or region you are in?\n"
     ]
    }
   ],
   "source": [
    "for step in agent_executor.stream(\n",
    "    {\"messages\" : [HumanMessage(content=\"whats the weather were i live?\")]},\n",
    "    config,\n",
    "    stream_mode=\"values\",\n",
    "):\n",
    "    step[\"messages\"][-1].pretty_print()"
   ]
  },
  {
   "cell_type": "code",
   "execution_count": 12,
   "id": "90461062-72a1-4f51-bf89-f17fb6369641",
   "metadata": {},
   "outputs": [
    {
     "data": {
      "text/plain": [
       "[{'title': 'Ghent 30-Day Forecast - Province East Flanders - World-Weather.info',\n",
       "  'url': 'https://world-weather.info/forecast/belgium/gent/month/',\n",
       "  'content': '30-Day weather forecast in Ghent for March, April 2025 is based on analysis ... Monday, March 24. +45°. Day. +59°. Few clouds. Tuesday, March 25. +43°. Day. +',\n",
       "  'score': 0.9302622},\n",
       " {'title': 'Ghent weather in March 2025 ⋆ Ghent temperature in March ...',\n",
       "  'url': 'https://www.meteoprog.com/weather/Ghent/month/march/',\n",
       "  'content': 'Ghent (Belgium) weather in March 2025 ☀️ Accurate weather forecast for Ghent ... 24 Mar. +13°+4°. 25 Mar. +12°+5°. 26 Mar. +11°+4°. 27 Mar. +12°+4°. 28 Mar. +13°+5',\n",
       "  'score': 0.92731744}]"
      ]
     },
     "execution_count": 12,
     "metadata": {},
     "output_type": "execute_result"
    }
   ],
   "source": [
    "search.invoke(\"What is the weather in Ghent?\")"
   ]
  },
  {
   "cell_type": "markdown",
   "id": "7f018abb-f719-4c98-a2b3-4622d33b341c",
   "metadata": {},
   "source": [
    "## Recreating this functionality using LangChain\n",
    "### Using Language Models"
   ]
  },
  {
   "cell_type": "code",
   "execution_count": 10,
   "id": "3010c53e-d00f-41cb-927d-c765a7fe6ea9",
   "metadata": {},
   "outputs": [],
   "source": [
    "from langchain.chat_models import init_chat_model\n",
    "\n",
    "model = init_chat_model(\"gpt-4o-mini\",model_provider=\"openai\")\n"
   ]
  },
  {
   "cell_type": "code",
   "execution_count": 11,
   "id": "a5975e57-a5d7-45b5-97e6-f487fb150d55",
   "metadata": {},
   "outputs": [
    {
     "data": {
      "text/plain": [
       "AIMessage(content=\"Hi Pavel! I'm just a program, so I don't have feelings, but I'm here and ready to help you with anything you need. How can I assist you today?\", additional_kwargs={'refusal': None}, response_metadata={'token_usage': {'completion_tokens': 35, 'prompt_tokens': 16, 'total_tokens': 51, 'completion_tokens_details': {'accepted_prediction_tokens': 0, 'audio_tokens': 0, 'reasoning_tokens': 0, 'rejected_prediction_tokens': 0}, 'prompt_tokens_details': {'audio_tokens': 0, 'cached_tokens': 0}}, 'model_name': 'gpt-4o-mini-2024-07-18', 'system_fingerprint': 'fp_bbfba58e46', 'id': 'chatcmpl-BFMiEXQfDpqYc9cAEGYEyYJDakFsX', 'finish_reason': 'stop', 'logprobs': None}, id='run-eea418ac-da5a-4a16-9cb3-54b841ba21ed-0', usage_metadata={'input_tokens': 16, 'output_tokens': 35, 'total_tokens': 51, 'input_token_details': {'audio': 0, 'cache_read': 0}, 'output_token_details': {'audio': 0, 'reasoning': 0}})"
      ]
     },
     "execution_count": 11,
     "metadata": {},
     "output_type": "execute_result"
    }
   ],
   "source": [
    "model.invoke(\"Hi, I'm Pavel, how are you?\")"
   ]
  },
  {
   "cell_type": "code",
   "execution_count": 12,
   "id": "b9924669-35d0-4ea5-90eb-afab3db7c943",
   "metadata": {},
   "outputs": [
    {
     "data": {
      "text/plain": [
       "HumanMessage(content='Hi!', additional_kwargs={}, response_metadata={})"
      ]
     },
     "execution_count": 12,
     "metadata": {},
     "output_type": "execute_result"
    }
   ],
   "source": [
    "from langchain_core.messages import HumanMessage\n",
    "HumanMessage(content=\"Hi!\")"
   ]
  },
  {
   "cell_type": "code",
   "execution_count": 13,
   "id": "d80884c0-f2b0-456e-8f3a-0cc04d53f36a",
   "metadata": {},
   "outputs": [
    {
     "data": {
      "text/plain": [
       "'Hello! I’m just a program, so I don’t have feelings, but I’m here and ready to help you. How can I assist you today?'"
      ]
     },
     "execution_count": 13,
     "metadata": {},
     "output_type": "execute_result"
    }
   ],
   "source": [
    "response = model.invoke([HumanMessage(content=\"Hi, how are you?\")])\n",
    "response.content"
   ]
  },
  {
   "cell_type": "code",
   "execution_count": 14,
   "id": "5b4ee547-a277-4fac-986b-26b15d5c062b",
   "metadata": {},
   "outputs": [],
   "source": [
    "model_with_tools = model.bind_tools(tools)"
   ]
  },
  {
   "cell_type": "markdown",
   "id": "7c449d86-8941-498d-9b0a-bbe78673e177",
   "metadata": {},
   "source": [
    "A response of this new model has attributes `content` and `tool_calls`"
   ]
  },
  {
   "cell_type": "code",
   "execution_count": 15,
   "id": "5d6dd53e-8c96-4360-8a7d-6ea9d8cdf443",
   "metadata": {},
   "outputs": [
    {
     "name": "stdout",
     "output_type": "stream",
     "text": [
      "ContentString: The capital of France is Paris.\n",
      "ToolCalls: []\n"
     ]
    }
   ],
   "source": [
    "response = model_with_tools.invoke([HumanMessage(content=\"What is the capital of France?\")])\n",
    "\n",
    "print(f\"ContentString: {response.content}\")\n",
    "print(f\"ToolCalls: {response.tool_calls}\")"
   ]
  },
  {
   "cell_type": "code",
   "execution_count": 16,
   "id": "dd52faec-7e5b-4a67-9d5c-ea4882537a22",
   "metadata": {},
   "outputs": [],
   "source": [
    "response = model_with_tools.invoke([HumanMessage(content=\"What is the weather in Sf?\")])"
   ]
  },
  {
   "cell_type": "code",
   "execution_count": 17,
   "id": "0e2a0ee5-7605-4a47-b694-6789abb63c56",
   "metadata": {},
   "outputs": [
    {
     "name": "stdout",
     "output_type": "stream",
     "text": [
      "ContentString: \n",
      "ToolCalls: [{'name': 'tavily_search_results_json', 'args': {'query': 'weather San Francisco'}, 'id': 'call_NPSo3DbANfhKDRReNMHzYwbc', 'type': 'tool_call'}]\n"
     ]
    }
   ],
   "source": [
    "print(f\"ContentString: {response.content}\")\n",
    "print(f\"ToolCalls: {response.tool_calls}\")"
   ]
  },
  {
   "cell_type": "code",
   "execution_count": 18,
   "id": "8d04f08b-d566-408e-aee8-36466b3fd1c4",
   "metadata": {},
   "outputs": [],
   "source": [
    "from langgraph.prebuilt import create_react_agent\n",
    "\n",
    "agent_executor = create_react_agent(model, tools)"
   ]
  },
  {
   "cell_type": "markdown",
   "id": "0b28498c-06f5-43ea-9dc9-d6a6483d3bf4",
   "metadata": {},
   "source": [
    "## Run the agent"
   ]
  },
  {
   "cell_type": "code",
   "execution_count": null,
   "id": "5059379a-0631-4db0-9666-91fc94e7a027",
   "metadata": {},
   "outputs": [],
   "source": [
    "response = agent_executor.invoke({\"messages\" : [HumanMessage(content=\"what's the weather in Ghent?\")]})"
   ]
  },
  {
   "cell_type": "code",
   "execution_count": 27,
   "id": "91ac838a-90be-4c40-9d4e-d3e05e196e25",
   "metadata": {},
   "outputs": [
    {
     "name": "stdout",
     "output_type": "stream",
     "text": [
      "================================\u001b[1m Human Message \u001b[0m=================================\n",
      "\n",
      "what's the weather in Ghent?\n",
      "==================================\u001b[1m Ai Message \u001b[0m==================================\n",
      "Tool Calls:\n",
      "  tavily_search_results_json (call_T5mVXuxMy9mtD22Y4VdSsMEo)\n",
      " Call ID: call_T5mVXuxMy9mtD22Y4VdSsMEo\n",
      "  Args:\n",
      "    query: current weather in Ghent\n",
      "=================================\u001b[1m Tool Message \u001b[0m=================================\n",
      "Name: tavily_search_results_json\n",
      "\n",
      "[{\"title\": \"Ghent, East Flanders, Belgium Current Weather | AccuWeather\", \"url\": \"https://www.accuweather.com/en/be/ghent/30438/current-weather/30438\", \"content\": \"Current Weather. 3:48 AM. 40°F. Mostly clear.\", \"score\": 0.73596483}, {\"title\": \"Ghent, East Flanders, Belgium Weather Forecast - AccuWeather\", \"url\": \"https://www.accuweather.com/en/be/ghent/30438/weather-forecast/30438\", \"content\": \"Current Weather. 4:42 AM. 44°F. Partly cloudy. RealFeel® 41° · Looking Ahead. Rain Sunday afternoon. Ghent Weather Radar & Maps. Ghent Weather Radar. Static\", \"score\": 0.725824}]\n",
      "==================================\u001b[1m Ai Message \u001b[0m==================================\n",
      "\n",
      "The current weather in Ghent is partly cloudy with a temperature of 44°F (approximately 7°C). You can check more detailed information [here](https://www.accuweather.com/en/be/ghent/30438/current-weather/30438).\n"
     ]
    }
   ],
   "source": [
    "for message in response[\"messages\"]:\n",
    "    message.pretty_print()"
   ]
  },
  {
   "cell_type": "code",
   "execution_count": 28,
   "id": "0262ff56-74d2-43df-a863-6925b96a468c",
   "metadata": {},
   "outputs": [
    {
     "name": "stdout",
     "output_type": "stream",
     "text": [
      "================================\u001b[1m Human Message \u001b[0m=================================\n",
      "\n",
      "What is there to do in Ghent this weekend?\n",
      "==================================\u001b[1m Ai Message \u001b[0m==================================\n",
      "Tool Calls:\n",
      "  tavily_search_results_json (call_poJrzFhkTLEev41Cqxo7Ozvj)\n",
      " Call ID: call_poJrzFhkTLEev41Cqxo7Ozvj\n",
      "  Args:\n",
      "    query: things to do in Ghent this weekend\n",
      "=================================\u001b[1m Tool Message \u001b[0m=================================\n",
      "Name: tavily_search_results_json\n",
      "\n",
      "[{\"title\": \"Things to Do in Ghent This Weekend - Eventbrite\", \"url\": \"https://www.eventbrite.com/d/belgium--gent/events--this-weekend/\", \"content\": \"Ghent Business: Top 7 Deadly Mistakes That will DESTROY Your New Business\\n\\nFriday at 7:00 PM + 2 more\\n\\nGhent\\n\\nThings to do around Ghent\\n\\nTrends in Ghent\\n\\n1. Comedy shows\\n\\n2. Rave party\\n\\n3. Techno music\\n\\n4. Afterwork party\\n\\n5. Drag\\n\\n6. Gay party\\n\\n7. Cabaret cuberdon\\n\\n8. Techno\\n\\n9. Stand up comedy\\n\\n10. Rave\\n\\n11. House music\\n\\n12. Harry potter\\n\\nFrequently asked questions about Ghent\\n\\nSite Navigation\\n\\nUse Eventbrite\\n\\nPlan Events\\n\\nFind Events\\n\\nConnect With Us [...] Friday at 10:00 AM\\n\\nlaGeste\\n\\nSales end soon\\n\\nWorkshop | basis lichttechniek voor een presentatie in een theaterzaal\\n\\nFriday at 10:00 AM\\n\\nlaGeste\\n\\nSales end soon\\n\\nWandelen in domein Puyenbroeck t.v.v. Dogs Behind Bars Belgium\\n\\nSunday at 10:00 AM\\n\\nDomein Puyenbroeck\\n\\nSales end soon\\n\\nWandelen in domein Puyenbroeck t.v.v. Dogs Behind Bars Belgium\\n\\nSunday at 10:00 AM\\n\\nDomein Puyenbroeck\\n\\nSales end soon\\n\\nMulticulturaliteit en het vernieuwend zorgtraject binnen de diëtetiek\\n\\nFriday at 8:30 AM [...] HOGENT campus Vesalius\\n\\nSales end soon\\n\\nMulticulturaliteit en het vernieuwend zorgtraject binnen de diëtetiek\\n\\nFriday at 8:30 AM\\n\\nHOGENT campus Vesalius\\n\\nSales end soon\\n\\nAn Epic Scavenger Hunt! - Ghent Giggles & Goblets Galore\\n\\nFriday at 8:00 AM + 2 more\\n\\nSint-Baafsplein 2\\n\\nSales end soon\\n\\nAn Epic Scavenger Hunt! - Ghent Giggles & Goblets Galore\\n\\nFriday at 8:00 AM + 2 more\\n\\nSint-Baafsplein 2\\n\\nSales end soon\\n\\nKripalu Yoga • Gent\\n\\nSaturday at 4:00 PM\\n\\nSoul Dimension\\n\\nSales end soon\", \"score\": 0.8708723}, {\"title\": \"Things to Do in Ghent This Weekend - Eventbrite\", \"url\": \"https://www.eventbrite.com/d/ny--ghent/events--this-weekend/\", \"content\": \"Find events happening this weekend in Ghent, NY. Browse through a variety of activities and interests to plan your perfect day out.\", \"score\": 0.6793707}]\n",
      "==================================\u001b[1m Ai Message \u001b[0m==================================\n",
      "\n",
      "This weekend in Ghent, you can enjoy a variety of activities and events. Here are some highlights:\n",
      "\n",
      "1. **Comedy Shows** - Enjoy some laughter at local comedy shows.\n",
      "2. **Rave and Techno Parties** - Dance the night away at rave and techno music events.\n",
      "3. **Afterwork Parties** - Perfect for unwinding after a long week.\n",
      "4. **Drag Shows** - Experience vibrant drag performances around the city.\n",
      "5. **Workshops and Classes** - Participate in workshops, including one on lighting techniques in a theater setting.\n",
      "\n",
      "Specific events include:\n",
      "- **An Epic Scavenger Hunt: Ghent Giggles & Goblets Galore** on Friday at 8:00 AM.\n",
      "- **Wandelen in domein Puyenbroeck t.v.v. Dogs Behind Bars Belgium** on Sunday at 10:00 AM.\n",
      "- **Kripalu Yoga** on Saturday at 4:00 PM.\n",
      "\n",
      "For more details and additional events, you can check out [Eventbrite's listings for Ghent this weekend](https://www.eventbrite.com/d/belgium--gent/events--this-weekend/).\n"
     ]
    }
   ],
   "source": [
    "for step in agent_executor.stream(\n",
    "    {\"messages\" : HumanMessage(content=\"What is there to do in Ghent this weekend?\")},\n",
    "    stream_mode= \"values\",\n",
    "):\n",
    "    step[\"messages\"][-1].pretty_print()"
   ]
  },
  {
   "cell_type": "markdown",
   "id": "221d7660-89f6-4afe-b48e-0a81c0f0ec6d",
   "metadata": {},
   "source": [
    "### Streaming tokens"
   ]
  },
  {
   "cell_type": "code",
   "execution_count": 19,
   "id": "2bcad331-cdda-4172-bbc1-6691a31d9543",
   "metadata": {},
   "outputs": [
    {
     "name": "stdout",
     "output_type": "stream",
     "text": [
      "During| your| visit| to| Lille| on| April| |11|th| and| |12|th|,| |202|4|,| you| can| look| forward| to| a| variety| of| activities| and| events|.| Here| are| some| highlights|:\n",
      "\n",
      "|1|.| **|C|ultural| Events|**|:| Lille| is| set| to| host| numerous| cultural| events| in| April|,| including| exhibitions| and| festivities| related| to| the| upcoming| Olympic| Games| in| |202|4|.\n",
      "\n",
      "|2|.| **|Guid|ed| Tours|**|:| Consider| taking| a| guided| tour| of| Lille|'s| historic| architecture|.| The| city| is| rich| in| history| and| offers| stunning| examples| of| architecture| from| different| eras|.\n",
      "\n",
      "|3|.| **|Pal|ais| des| Be|aux|-Ar|ts| de| Lille|**|:| This| museum| houses| an| impressive| collection| of| paintings|,| sculptures|,| and| decorative| arts|.| It's| one| of| the| largest| fine| arts| museums| in| France|,| making| it| a| must|-|visit| for| art| lovers|.\n",
      "\n",
      "|4|.| **|C|ul|inary| Experiences|**|:| For| those| interested| in| cooking|,| you| might| find| traditional| French| cooking| classes| available|,| allowing| you| to| learn| and| enjoy| local| cuisine|.\n",
      "\n",
      "|5|.| **|Beer| Festival| Preparation|**|:| April| marks| the| lead|-up| to| a| major| beer| festival|,| which| includes| tast|ings|,| workshops|,| and| events| in| establishments| around| Lille|.| This| is| a| great| opportunity| to| explore| local| breweries| and| craft| beers|.\n",
      "\n",
      "|For| more| specific| information| on| events|,| you| can| check| these| resources|:\n",
      "|-| [|Major| Events| in| Lille|](|https|://|en|.l|illet|our|ism|.com|/ex|plore|/|hello|-c|ulture|/|major|-events|/)\n",
      "|-| [|Things| to| Do| in| Lille| in| April|](|https|://|wander|log|.com|/|geo|In|Month|/|973|3|/|4|/l|ille|-in|-ap|ril|)\n",
      "\n",
      "|Make| sure| to| book| any| activities| or| tours| in| advance|,| as| they| may| fill| up| quickly|!|"
     ]
    }
   ],
   "source": [
    "for step, metadata in agent_executor.stream(\n",
    "    {\"messages\" : [HumanMessage(content=\"What is there to do in Lille at 11th and 12th of April?\")]},\n",
    "    stream_mode=\"messages\"\n",
    "):\n",
    "    if metadata[\"langgraph_node\"] == \"agent\" and (text := step.text()):\n",
    "        print(text, end=\"|\")"
   ]
  },
  {
   "cell_type": "code",
   "execution_count": 32,
   "id": "6ac8b876-5a71-4d31-ae59-de747b710e59",
   "metadata": {},
   "outputs": [],
   "source": [
    "from langgraph.checkpoint.memory import MemorySaver\n",
    "\n",
    "memory = MemorySaver()"
   ]
  },
  {
   "cell_type": "code",
   "execution_count": 33,
   "id": "b0985607-e316-4292-9d83-360731539310",
   "metadata": {},
   "outputs": [],
   "source": [
    "agent_executor = create_react_agent(model, tools, checkpointer=memory)\n",
    "\n",
    "config = {\"configurable\" : {\"thread_id\":\"abc123\"}}"
   ]
  },
  {
   "cell_type": "code",
   "execution_count": 38,
   "id": "3d84dbc0-1585-462c-ac34-b1710239e72b",
   "metadata": {},
   "outputs": [
    {
     "name": "stdout",
     "output_type": "stream",
     "text": [
      "{'agent': {'messages': [AIMessage(content=\"Hello! It's great to have you here. How can I assist you today? If you have any questions or need information related to your internship or anything else, please let me know!\", additional_kwargs={'refusal': None}, response_metadata={'token_usage': {'completion_tokens': 39, 'prompt_tokens': 267, 'total_tokens': 306, 'completion_tokens_details': {'accepted_prediction_tokens': 0, 'audio_tokens': 0, 'reasoning_tokens': 0, 'rejected_prediction_tokens': 0}, 'prompt_tokens_details': {'audio_tokens': 0, 'cached_tokens': 0}}, 'model_name': 'gpt-4o-mini-2024-07-18', 'system_fingerprint': 'fp_27322b4e16', 'id': 'chatcmpl-BFIdQiwFT2psTjbRhfFdnPkoEgR7W', 'finish_reason': 'stop', 'logprobs': None}, id='run-952c7696-0a4c-4852-addb-930a249243c8-0', usage_metadata={'input_tokens': 267, 'output_tokens': 39, 'total_tokens': 306, 'input_token_details': {'audio': 0, 'cache_read': 0}, 'output_token_details': {'audio': 0, 'reasoning': 0}})]}}\n",
      "---\n"
     ]
    }
   ],
   "source": [
    "for chunk in agent_executor.stream(\n",
    "    {\"messages\":[HumanMessage(\"hi, I'm an intern at EY Belgium\")]},\n",
    "    config,\n",
    "):\n",
    "    print(chunk)\n",
    "    print(\"---\")"
   ]
  },
  {
   "cell_type": "code",
   "execution_count": 40,
   "id": "141fd0e6-1056-469c-a620-b97db3ed3a4b",
   "metadata": {},
   "outputs": [
    {
     "name": "stdout",
     "output_type": "stream",
     "text": [
      "{'agent': {'messages': [AIMessage(content='To provide a more tailored answer, could you share your field of study or area of interest? Additionally, knowing your career goals would help in suggesting potential companies you might work for in two years.', additional_kwargs={'refusal': None}, response_metadata={'token_usage': {'completion_tokens': 41, 'prompt_tokens': 323, 'total_tokens': 364, 'completion_tokens_details': {'accepted_prediction_tokens': 0, 'audio_tokens': 0, 'reasoning_tokens': 0, 'rejected_prediction_tokens': 0}, 'prompt_tokens_details': {'audio_tokens': 0, 'cached_tokens': 0}}, 'model_name': 'gpt-4o-mini-2024-07-18', 'system_fingerprint': 'fp_27322b4e16', 'id': 'chatcmpl-BFIguff21fxp52qDB2Ip0r3Af21jF', 'finish_reason': 'stop', 'logprobs': None}, id='run-b547f32b-d697-43fb-aca0-4147119dd1ff-0', usage_metadata={'input_tokens': 323, 'output_tokens': 41, 'total_tokens': 364, 'input_token_details': {'audio': 0, 'cache_read': 0}, 'output_token_details': {'audio': 0, 'reasoning': 0}})]}}\n",
      "--------------------------------------------------------------------------------\n"
     ]
    }
   ],
   "source": [
    "for chunk in agent_executor.stream(\n",
    "    {\"messages\":[HumanMessage(\"What company might I work for in 2 yrs?\")]},\n",
    "    config,\n",
    "):\n",
    "    print(chunk)\n",
    "    print(f\"{'-'*80}\")"
   ]
  }
 ],
 "metadata": {
  "kernelspec": {
   "display_name": "Python 3 (ipykernel)",
   "language": "python",
   "name": "python3"
  },
  "language_info": {
   "codemirror_mode": {
    "name": "ipython",
    "version": 3
   },
   "file_extension": ".py",
   "mimetype": "text/x-python",
   "name": "python",
   "nbconvert_exporter": "python",
   "pygments_lexer": "ipython3",
   "version": "3.12.9"
  }
 },
 "nbformat": 4,
 "nbformat_minor": 5
}
