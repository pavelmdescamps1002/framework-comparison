{
 "cells": [
  {
   "cell_type": "code",
   "execution_count": 2,
   "id": "5824c7b8-c318-420d-b3c5-f37903b49fbf",
   "metadata": {},
   "outputs": [],
   "source": [
    "import nest_asyncio\n",
    "nest_asyncio.apply()"
   ]
  },
  {
   "cell_type": "code",
   "execution_count": 3,
   "id": "cc3f80bf-bf1a-4a69-be1f-8cf735026267",
   "metadata": {},
   "outputs": [],
   "source": [
    "import asyncio\n",
    "import random\n",
    "\n",
    "from agents import (\n",
    "    Agent,\n",
    "    function_tool,\n",
    ")\n",
    "from agents.extensions.handoff_prompt import prompt_with_handoff_instructions\n",
    "\n",
    "\n",
    "\n",
    "@function_tool\n",
    "def get_weather(city: str) -> str:\n",
    "    \"\"\"Get the weather for a given city.\"\"\"\n",
    "    print(f\"[debug] get_weather called with city: {city}\")\n",
    "    choices = [\"sunny\", \"cloudy\", \"rainy\", \"snowy\"]\n",
    "    return f\"The weather in {city} is {random.choice(choices)}.\"\n",
    "\n",
    "\n",
    "dutch_agent = Agent(\n",
    "    name=\"Dutch\",\n",
    "    handoff_description=\"A dutch speaking agent.\",\n",
    "    instructions=prompt_with_handoff_instructions(\n",
    "        \"You're speaking to a human, so be polite and concise. Speak in Dutch.\",\n",
    "    ),\n",
    "    model=\"gpt-4o-mini\",\n",
    ")\n",
    "\n",
    "agent = Agent(\n",
    "    name=\"Assistant\",\n",
    "    instructions=prompt_with_handoff_instructions(\n",
    "        \"You're speaking to a human, so be polite and concise. If the user speaks Dutch, handoff to the dutch agent.\",\n",
    "    ),\n",
    "    model=\"gpt-4o-mini\",\n",
    "    handoffs=[dutch_agent],\n",
    "    tools=[get_weather],\n",
    ")"
   ]
  },
  {
   "cell_type": "code",
   "execution_count": 4,
   "id": "0ed559a4-2757-46c6-a0f9-29bed2a771c6",
   "metadata": {},
   "outputs": [],
   "source": [
    "from agents.voice import SingleAgentVoiceWorkflow, VoicePipeline\n",
    "pipeline = VoicePipeline(workflow=SingleAgentVoiceWorkflow(agent))"
   ]
  },
  {
   "cell_type": "code",
   "execution_count": 5,
   "id": "365fc376-c1bf-49bb-b954-2a27fe2c7608",
   "metadata": {},
   "outputs": [],
   "source": [
    "import numpy as np\n",
    "import sounddevice as sd\n",
    "from agents.voice import AudioInput\n",
    "\n",
    "buffer = np.zeros(24000*3, dtype=np.int16)\n",
    "audio_input = AudioInput(buffer=buffer)\n",
    "\n",
    "result = await pipeline.run(audio_input)\n",
    "\n",
    "player = sd.OutputStream(samplerate=24000, channels=1, dtype=np.int16)\n",
    "player.start()\n",
    "\n",
    "async for event in result.stream():\n",
    "    if event.type == \"voice_stream_event_audio\":\n",
    "        player.write(event.data)"
   ]
  },
  {
   "cell_type": "code",
   "execution_count": null,
   "id": "2022ba4a-6330-4f19-9718-4ff0c9bd0454",
   "metadata": {},
   "outputs": [],
   "source": [
    "import asyncio\n",
    "import random\n",
    "\n",
    "from agents import Agent, function_tool\n",
    "from agents.extensions.handoff_prompt import prompt_with_handoff_instructions\n",
    "from agents.voice import (\n",
    "    AudioInput,\n",
    "    SingleAgentVoiceWorkflow,\n",
    "    SingleAgentWorkflowCallbacks,\n",
    "    VoicePipeline,\n",
    ")\n",
    "\n",
    "from util import AudioPlayer, record_audio\n",
    "\n",
    "data = record_audio()"
   ]
  },
  {
   "cell_type": "code",
   "execution_count": null,
   "id": "d503af52-0b65-4f63-a022-4ffbfa73cc41",
   "metadata": {},
   "outputs": [],
   "source": []
  }
 ],
 "metadata": {
  "kernelspec": {
   "display_name": "Python 3 (ipykernel)",
   "language": "python",
   "name": "python3"
  },
  "language_info": {
   "codemirror_mode": {
    "name": "ipython",
    "version": 3
   },
   "file_extension": ".py",
   "mimetype": "text/x-python",
   "name": "python",
   "nbconvert_exporter": "python",
   "pygments_lexer": "ipython3",
   "version": "3.13.2"
  }
 },
 "nbformat": 4,
 "nbformat_minor": 5
}
