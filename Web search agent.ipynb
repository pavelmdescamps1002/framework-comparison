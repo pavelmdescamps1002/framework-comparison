{
 "cells": [
  {
   "cell_type": "code",
   "execution_count": 3,
   "id": "5208e6dc-6cb3-4a03-be4a-618edb697567",
   "metadata": {},
   "outputs": [],
   "source": [
    "import nest_asyncio\n",
    "nest_asyncio.apply()"
   ]
  },
  {
   "cell_type": "code",
   "execution_count": 5,
   "id": "0b418904-6141-447e-8fb4-7ddae003da6a",
   "metadata": {},
   "outputs": [
    {
     "name": "stdout",
     "output_type": "stream",
     "text": [
      "Ghent boasts a vibrant coffee scene with numerous establishments offering unique experiences. Here are some notable coffee shops you might consider:\n",
      "\n",
      "**[Mokabon](https://www.google.com/maps/search/Mokabon%2C+Ghent%2C+Belgium)**\n",
      "_Ghent, Belgium_\n",
      "Established in 1937, Mokabon is Ghent's first coffee bar, renowned for its excellent coffee and cozy atmosphere. The interior features red walls, small round tables, and a red neon sign, creating a warm ambiance.\n",
      "\n",
      "**[WAY Specialty Coffee Roasters](https://www.google.com/maps/search/WAY+Specialty+Coffee+Roasters%2C+Ghent%2C+Belgium)**\n",
      "_Ghent, Belgium_\n",
      "Located in the Dok Noord district, WAY offers award-winning coffee roasted by Charlene De Buysere. The spacious, industrial-style interior provides a relaxed setting to enjoy their specialty brews and vegan pastries.\n",
      "\n",
      "**[Vandekerckhove Koffiebranderij](https://www.google.com/maps/search/Vandekerckhove+Koffiebranderij%2C+Ghent%2C+Belgium)**\n",
      "_Ghent, Belgium_\n",
      "With a family history in coffee dating back to 1854, Vandekerckhove roasts beans from Brazil and Kenya in-house, offering about 30 different varieties, including unique blends.\n",
      "\n",
      "**[São Paulo](https://www.google.com/maps/search/S%C3%A3o+Paulo%2C+Ghent%2C+Belgium)**\n",
      "_Ghent, Belgium_\n",
      "Operating since the 1913 Ghent World Fair, São Paulo roasts its own coffee and offers a selection of 200 different teas. The shop's interior features gleaming brass dispensers and a rich aroma of fresh coffee.\n",
      "\n",
      "**[Full Circle Coffee](https://www.google.com/maps/search/Full+Circle+Coffee%2C+Ghent%2C+Belgium)**\n",
      "_Ghent, Belgium_\n",
      "Near the city library, Full Circle Coffee offers a spacious interior with white tiles, vintage armchairs, and potted plants. Skilled baristas serve expertly crafted coffee, and there's a second branch near Sint-Pieters station.\n",
      "\n",
      "**[Julie's House](https://www.google.com/maps/search/Julie%27s+House%2C+Ghent%2C+Belgium)**\n",
      "_Ghent, Belgium_\n",
      "Known for its delicious breakfast, traditional cakes, and colorful cupcakes, Julie's House offers a dash of old-fashioned conviviality in a cozy setting.\n",
      "\n",
      "**[Le Pain Perdu](https://www.google.com/maps/search/Le+Pain+Perdu%2C+Ghent%2C+Belgium)**\n",
      "_Ghent, Belgium_\n",
      "A must-visit for drinks, tasty breakfasts, and hearty lunches, Le Pain Perdu is renowned for its great atmosphere and the best and biggest sandwiches. The large, covered garden adds a nice touch.\n",
      "\n",
      "**[Tante Paula](https://www.google.com/maps/search/Tante+Paula%2C+Ghent%2C+Belgium)**\n",
      "_Ghent, Belgium_\n",
      "A unique combination of a café serving breakfast and lunch, combined with a photo shop. Tante Paula offers fresh, generously filled sandwiches, pastries, and soups, all served with flair.\n",
      "\n",
      "**[Wasbar](https://www.google.com/maps/search/Wasbar%2C+Ghent%2C+Belgium)**\n",
      "_Ghent, Belgium_\n",
      "An impressive launderette with an adjoining bar, Wasbar attracts young tourists and locals who do their laundry while enjoying a cool beer or coffee at the bar.\n",
      "\n",
      "**[Simon Says](https://www.google.com/maps/search/Simon+Says%2C+Ghent%2C+Belgium)**\n",
      "_Ghent, Belgium_\n",
      "A trendy coffee bar in a beautiful 1904 building, featuring Panamarenko’s golden murals. The coffee is roasted by the artist’s wife, adding a unique touch to the experience.\n",
      "\n",
      "Each of these coffee shops offers a unique experience, reflecting the rich coffee culture of Ghent. \n"
     ]
    }
   ],
   "source": [
    "from agents import Agent, Runner, WebSearchTool\n",
    "\n",
    "agent = Agent(\n",
    "    name=\"Assistant\",\n",
    "    instructions=\"You are a helpful assistant, assist the user with their queries.\",\n",
    "    tools=[WebSearchTool()],\n",
    "    model= \"gpt-4o\",\n",
    ")\n",
    "\n",
    "result = await Runner.run(agent, \"What are the best coffee shops in Ghent?\")\n",
    "print(result.final_output)"
   ]
  }
 ],
 "metadata": {
  "kernelspec": {
   "display_name": "Python 3 (ipykernel)",
   "language": "python",
   "name": "python3"
  },
  "language_info": {
   "codemirror_mode": {
    "name": "ipython",
    "version": 3
   },
   "file_extension": ".py",
   "mimetype": "text/x-python",
   "name": "python",
   "nbconvert_exporter": "python",
   "pygments_lexer": "ipython3",
   "version": "3.13.2"
  }
 },
 "nbformat": 4,
 "nbformat_minor": 5
}
